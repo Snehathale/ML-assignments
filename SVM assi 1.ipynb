{
 "cells": [
  {
   "cell_type": "markdown",
   "id": "48bda2c1-705a-4fd0-b85a-64d9c7ff49be",
   "metadata": {},
   "source": [
    "Q1. What is the mathematical formula for a linear SVM?"
   ]
  },
  {
   "cell_type": "markdown",
   "id": "e183cca2-42de-4000-9f0a-999616f726b4",
   "metadata": {},
   "source": [
    "Mathematical Formula for a Linear SVM\n",
    "The Hyperplane\n",
    "A linear SVM seeks to find the optimal hyperplane that separates data points into different classes with maximum margin. The equation of this hyperplane is given by:\n",
    "\n",
    "w^T * x + b = 0\n",
    "Where:\n",
    "\n",
    "w is the weight vector, perpendicular to the hyperplane\n",
    "x is a data point\n",
    "b is the bias term, determining the offset of the hyperplane\n",
    "The Margin\n",
    "The margin is the distance between the hyperplane and the closest data points (support vectors) from each class. To maximize the margin, we aim to maximize the following:\n",
    "\n",
    "margin = 2 / ||w||\n",
    "The Optimization Problem\n",
    "The SVM optimization problem can be formulated as follows:\n",
    "\n",
    "minimize: 1/2 * ||w||^2\n",
    "subject to: y_i * (w^T * x_i + b) >= 1, for all i\n",
    "Where:\n",
    "\n",
    "y_i is the class label of data point x_i (+1 or -1)\n",
    "||w|| is the norm of the weight vector\n",
    "This optimization problem finds the weight vector w and bias b that minimize the norm of w (maximize the margin) while ensuring that all data points are correctly classified with a margin of at least 1.\n",
    "\n",
    "Dual Formulation\n",
    "The optimization problem can also be solved using its dual form, which is often more efficient for large datasets. The dual problem involves solving for Lagrange multipliers, which can be interpreted as weights associated with each data point."
   ]
  },
  {
   "cell_type": "markdown",
   "id": "c81a13f0-fa88-4361-9fae-73d2e24b9787",
   "metadata": {},
   "source": []
  },
  {
   "cell_type": "markdown",
   "id": "7fd8e7b7-929e-4fef-8d14-e1e0c9ebd5bd",
   "metadata": {},
   "source": [
    "Q2. What is the objective function of a linear SVM?"
   ]
  },
  {
   "cell_type": "markdown",
   "id": "b32101db-b2ce-470b-a0d3-d275a492276d",
   "metadata": {},
   "source": [
    "Objective Function of a Linear SVM\n",
    "The objective function of a linear SVM is to maximize the margin between the separating hyperplane and the closest data points (support vectors) of each class.\n",
    "\n",
    "In mathematical terms, this is equivalent to:\n",
    "\n",
    "Minimizing: 1/2 * ||w||^2\n",
    "Subject to: y_i * (w^T * x_i + b) >= 1 for all data points i\n",
    "Where:\n",
    "\n",
    "w is the weight vector perpendicular to the hyperplane\n",
    "b is the bias term\n",
    "||w|| is the norm (length) of the weight vector\n",
    "y_i is the class label of data point i (+1 or -1)\n",
    "x_i is the i-th data point\n",
    "Minimizing 1/2 * ||w||^2 is equivalent to maximizing the margin, as the margin is inversely proportional to the norm of the weight vector.\n",
    "\n",
    "The constraints y_i * (w^T * x_i + b) >= 1 ensure that all data points are correctly classified with a margin of at least 1.\n",
    "\n",
    "By solving this optimization problem, we find the optimal hyperplane that separates the data points with the maximum margin."
   ]
  },
  {
   "cell_type": "markdown",
   "id": "4b3e964b-8f13-4baa-92a6-4ec40f52055d",
   "metadata": {},
   "source": []
  },
  {
   "cell_type": "markdown",
   "id": "56f376b5-8592-422d-8c27-5af50f375d37",
   "metadata": {},
   "source": [
    "Q3. What is the kernel trick in SVM?"
   ]
  },
  {
   "cell_type": "markdown",
   "id": "362b7fe1-6131-4d6f-94b8-4614378003cb",
   "metadata": {},
   "source": [
    "The Kernel Trick in SVM\n",
    "The kernel trick is a mathematical technique that allows SVMs to operate in high-dimensional spaces without explicitly computing the coordinates of data points in that space.\n",
    "\n",
    "The Problem\n",
    "Often, real-world data is not linearly separable. This means it's impossible to draw a straight line (or hyperplane in higher dimensions) to separate the data points into different classes.\n",
    "\n",
    "The Solution\n",
    "One approach is to map the data into a higher-dimensional space where it might become linearly separable. This is where the kernel trick comes in. Instead of explicitly performing this mapping, the kernel trick calculates the inner product (dot product) of data points in the transformed space without actually carrying out the transformation.\n",
    "\n",
    "How it Works\n",
    "Mapping to Higher Dimensions: Imagine transforming your data from a 2D space to a 3D space. Sometimes, data that is not linearly separable in 2D might become linearly separable in 3D.\n",
    "Kernel Function: The kernel function computes the inner product of data points in the transformed space directly, without explicitly calculating the coordinates of the data points in that space. This is computationally efficient.\n",
    "Linear SVM in High Dimensions: Once the kernel function provides the inner products, the SVM can operate as if it were working in the higher-dimensional space, even though the calculations are done efficiently in the original space.\n",
    "Common Kernel Functions\n",
    "Linear Kernel: For linearly separable data.\n",
    "Polynomial Kernel: For data with polynomial relationships.\n",
    "Radial Basis Function (RBF) Kernel: Commonly used for non-linear data.\n",
    "In essence, the kernel trick allows SVMs to handle complex, non-linear patterns in data without the computational burden of explicitly working in high-dimensional spaces."
   ]
  },
  {
   "cell_type": "markdown",
   "id": "f2fc6cf5-fcf0-418e-8815-8fce3998b813",
   "metadata": {},
   "source": []
  },
  {
   "cell_type": "markdown",
   "id": "6d6d2553-b20f-4ab2-a04b-a6494e9fbeec",
   "metadata": {},
   "source": [
    "Q4. What is the role of support vectors in SVM Explain with example"
   ]
  },
  {
   "cell_type": "markdown",
   "id": "da36a96d-305f-4ffa-820c-458f966184f7",
   "metadata": {},
   "source": [
    "Role of Support Vectors in SVM\n",
    "Support vectors are the data points that lie closest to the decision boundary (hyperplane) of an SVM. They are crucial in determining the position and orientation of the hyperplane.\n",
    "\n",
    "How Support Vectors Influence SVM:\n",
    "Defining the Margin: The distance between the hyperplane and the closest data points (support vectors) is called the margin. SVM aims to maximize this margin for better generalization.\n",
    "Determining the Hyperplane: The support vectors directly influence the position and orientation of the hyperplane. Removing or changing the support vectors will change the hyperplane as well.\n",
    "Efficient Computation: Only the support vectors are involved in the calculations of the SVM model. This makes SVMs computationally efficient, especially with large datasets.\n",
    "Example:\n",
    "Imagine you're trying to classify emails as spam or not spam. Your data points are emails represented by various features (word frequency, sender information, etc.).\n",
    "\n",
    "Support vectors would be the emails that are most difficult to classify, lying closest to the decision boundary between spam and non-spam emails.\n",
    "The SVM would find the best hyperplane (a line in this 2D example) that separates spam and non-spam emails while maximizing the margin between the two classes.\n",
    "This hyperplane would be determined primarily by the support vectors, as they are the critical points influencing the decision boundary.\n",
    "Key points to remember:\n",
    "\n",
    "Not all data points are support vectors.\n",
    "Support vectors are essential for SVM's performance.\n",
    "Removing or changing support vectors can significantly impact the model.\n",
    "\n"
   ]
  },
  {
   "cell_type": "markdown",
   "id": "239aaece-67b7-48bd-a01e-15f797e4e349",
   "metadata": {},
   "source": []
  },
  {
   "cell_type": "markdown",
   "id": "031febf4-fe25-4f39-970c-d961fb78cb6e",
   "metadata": {},
   "source": [
    "Q5. Illustrate with examples and graphs of Hyperplane, Marginal plane, Soft margin and Hard margin in\n",
    "SVM?"
   ]
  },
  {
   "cell_type": "markdown",
   "id": "baaea5ad-68d7-4316-9f71-7ff3347686fb",
   "metadata": {},
   "source": [
    "Hyperplane, Marginal Planes, Soft Margin, and Hard Margin in SVM\n",
    "Hyperplane\n",
    "A hyperplane is a decision boundary that separates data points into different classes. In 2D, it's a line, in 3D, it's a plane, and in higher dimensions, it's a hyperplane.\n",
    "\n",
    "Opens in a new window\n",
    "www.researchgate.net\n",
    "hyperplane separating data points in 2D\n",
    "Marginal Planes\n",
    "Marginal planes are parallel to the hyperplane and define the boundaries of the margin. The distance between the marginal planes is maximized to achieve optimal separation of the data points.\n",
    "\n",
    "Opens in a new window\n",
    "medium.com\n",
    "marginal planes with support vectors in 2D\n",
    "Support Vectors\n",
    "Support vectors are the data points closest to the hyperplane. They are crucial in determining the position and orientation of the hyperplane.\n",
    "\n",
    "Hard Margin SVM\n",
    "A hard margin SVM aims to find a hyperplane that perfectly separates the data points into two classes without any errors. This is only possible when the data is linearly separable.\n",
    "\n",
    "Opens in a new window\n",
    "www.geeksforgeeks.org\n",
    "hard margin SVM with clearly separated data points\n",
    "Soft Margin SVM\n",
    "A soft margin SVM allows for some misclassifications by introducing slack variables. This is more practical for real-world data, which is often not perfectly linearly separable.\n",
    "\n",
    "Opens in a new window\n",
    "www.researchgate.net\n",
    "soft margin SVM with some misclassified data points\n",
    "Key Differences between Hard and Soft Margin SVM:\n",
    "\n",
    "Feature\tHard Margin SVM\tSoft Margin SVM\n",
    "Data Separability\tPerfectly linearly separable\tNot necessarily linearly separable\n",
    "Misclassifications\tNo misclassifications allowed\tAllows some misclassifications\n",
    "Margin\tMaximum margin\tMaximum margin with some tolerance for errors\n",
    "Flexibility\tLess flexible\tMore flexible\n",
    "\n",
    "Export to Sheets\n",
    "In summary:\n",
    "\n",
    "The hyperplane is the decision boundary.\n",
    "Marginal planes define the margin.\n",
    "Support vectors are crucial for determining the hyperplane.\n",
    "Hard margin SVM requires perfect separation.\n",
    "Soft margin SVM allows for some misclassifications.\n",
    "By understanding these concepts, you can effectively apply SVM to various classification problems."
   ]
  },
  {
   "cell_type": "markdown",
   "id": "cdaeea68-8ac7-4ecc-bcf5-18ea11372bfd",
   "metadata": {},
   "source": []
  },
  {
   "cell_type": "markdown",
   "id": "a8b2ce72-4629-4ab1-9bd8-354452f112cb",
   "metadata": {},
   "source": [
    "Q6. SVM Implementation through Iris dataset.\n",
    "\n",
    "Bonus task: Implement a linear SVM classifier from scratch using Python and compare its\n",
    "performance with the scikit-learn implementation.\n",
    "~ Load the iris dataset from the scikit-learn library and split it into a training set and a testing setl\n",
    "~ Train a linear SVM classifier on the training set and predict the labels for the testing setl\n",
    "~ Compute the accuracy of the model on the testing setl\n",
    "~ Plot the decision boundaries of the trained model using two of the featuresl\n",
    "~ Try different values of the regularisation parameter C and see how it affects the performance of\n",
    "the model."
   ]
  },
  {
   "cell_type": "code",
   "execution_count": 20,
   "id": "a3a7ed5e-51bf-4357-9818-43f9cadd2e74",
   "metadata": {},
   "outputs": [],
   "source": [
    "import numpy as np\n",
    "import pandas as pd\n",
    "import matplotlib.pyplot as plt"
   ]
  },
  {
   "cell_type": "code",
   "execution_count": 2,
   "id": "281b4053-3133-41ff-b971-ebdeebc43b9a",
   "metadata": {},
   "outputs": [],
   "source": [
    "from sklearn import datasets\n",
    "iris=datasets.load_iris()"
   ]
  },
  {
   "cell_type": "code",
   "execution_count": 3,
   "id": "1a1cf1dc-ba63-4cb7-94cb-3b881766b0ab",
   "metadata": {},
   "outputs": [],
   "source": [
    "X=iris.data[:,:2]\n",
    "y=iris.target"
   ]
  },
  {
   "cell_type": "code",
   "execution_count": 23,
   "id": "b4929dd0-64f4-4406-b0a6-2c91a0dc7933",
   "metadata": {},
   "outputs": [
    {
     "data": {
      "text/plain": [
       "array([[5.1, 3.5],\n",
       "       [4.9, 3. ],\n",
       "       [4.7, 3.2],\n",
       "       [4.6, 3.1],\n",
       "       [5. , 3.6],\n",
       "       [5.4, 3.9],\n",
       "       [4.6, 3.4],\n",
       "       [5. , 3.4],\n",
       "       [4.4, 2.9],\n",
       "       [4.9, 3.1],\n",
       "       [5.4, 3.7],\n",
       "       [4.8, 3.4],\n",
       "       [4.8, 3. ],\n",
       "       [4.3, 3. ],\n",
       "       [5.8, 4. ],\n",
       "       [5.7, 4.4],\n",
       "       [5.4, 3.9],\n",
       "       [5.1, 3.5],\n",
       "       [5.7, 3.8],\n",
       "       [5.1, 3.8],\n",
       "       [5.4, 3.4],\n",
       "       [5.1, 3.7],\n",
       "       [4.6, 3.6],\n",
       "       [5.1, 3.3],\n",
       "       [4.8, 3.4],\n",
       "       [5. , 3. ],\n",
       "       [5. , 3.4],\n",
       "       [5.2, 3.5],\n",
       "       [5.2, 3.4],\n",
       "       [4.7, 3.2],\n",
       "       [4.8, 3.1],\n",
       "       [5.4, 3.4],\n",
       "       [5.2, 4.1],\n",
       "       [5.5, 4.2],\n",
       "       [4.9, 3.1],\n",
       "       [5. , 3.2],\n",
       "       [5.5, 3.5],\n",
       "       [4.9, 3.6],\n",
       "       [4.4, 3. ],\n",
       "       [5.1, 3.4],\n",
       "       [5. , 3.5],\n",
       "       [4.5, 2.3],\n",
       "       [4.4, 3.2],\n",
       "       [5. , 3.5],\n",
       "       [5.1, 3.8],\n",
       "       [4.8, 3. ],\n",
       "       [5.1, 3.8],\n",
       "       [4.6, 3.2],\n",
       "       [5.3, 3.7],\n",
       "       [5. , 3.3],\n",
       "       [7. , 3.2],\n",
       "       [6.4, 3.2],\n",
       "       [6.9, 3.1],\n",
       "       [5.5, 2.3],\n",
       "       [6.5, 2.8],\n",
       "       [5.7, 2.8],\n",
       "       [6.3, 3.3],\n",
       "       [4.9, 2.4],\n",
       "       [6.6, 2.9],\n",
       "       [5.2, 2.7],\n",
       "       [5. , 2. ],\n",
       "       [5.9, 3. ],\n",
       "       [6. , 2.2],\n",
       "       [6.1, 2.9],\n",
       "       [5.6, 2.9],\n",
       "       [6.7, 3.1],\n",
       "       [5.6, 3. ],\n",
       "       [5.8, 2.7],\n",
       "       [6.2, 2.2],\n",
       "       [5.6, 2.5],\n",
       "       [5.9, 3.2],\n",
       "       [6.1, 2.8],\n",
       "       [6.3, 2.5],\n",
       "       [6.1, 2.8],\n",
       "       [6.4, 2.9],\n",
       "       [6.6, 3. ],\n",
       "       [6.8, 2.8],\n",
       "       [6.7, 3. ],\n",
       "       [6. , 2.9],\n",
       "       [5.7, 2.6],\n",
       "       [5.5, 2.4],\n",
       "       [5.5, 2.4],\n",
       "       [5.8, 2.7],\n",
       "       [6. , 2.7],\n",
       "       [5.4, 3. ],\n",
       "       [6. , 3.4],\n",
       "       [6.7, 3.1],\n",
       "       [6.3, 2.3],\n",
       "       [5.6, 3. ],\n",
       "       [5.5, 2.5],\n",
       "       [5.5, 2.6],\n",
       "       [6.1, 3. ],\n",
       "       [5.8, 2.6],\n",
       "       [5. , 2.3],\n",
       "       [5.6, 2.7],\n",
       "       [5.7, 3. ],\n",
       "       [5.7, 2.9],\n",
       "       [6.2, 2.9],\n",
       "       [5.1, 2.5],\n",
       "       [5.7, 2.8],\n",
       "       [6.3, 3.3],\n",
       "       [5.8, 2.7],\n",
       "       [7.1, 3. ],\n",
       "       [6.3, 2.9],\n",
       "       [6.5, 3. ],\n",
       "       [7.6, 3. ],\n",
       "       [4.9, 2.5],\n",
       "       [7.3, 2.9],\n",
       "       [6.7, 2.5],\n",
       "       [7.2, 3.6],\n",
       "       [6.5, 3.2],\n",
       "       [6.4, 2.7],\n",
       "       [6.8, 3. ],\n",
       "       [5.7, 2.5],\n",
       "       [5.8, 2.8],\n",
       "       [6.4, 3.2],\n",
       "       [6.5, 3. ],\n",
       "       [7.7, 3.8],\n",
       "       [7.7, 2.6],\n",
       "       [6. , 2.2],\n",
       "       [6.9, 3.2],\n",
       "       [5.6, 2.8],\n",
       "       [7.7, 2.8],\n",
       "       [6.3, 2.7],\n",
       "       [6.7, 3.3],\n",
       "       [7.2, 3.2],\n",
       "       [6.2, 2.8],\n",
       "       [6.1, 3. ],\n",
       "       [6.4, 2.8],\n",
       "       [7.2, 3. ],\n",
       "       [7.4, 2.8],\n",
       "       [7.9, 3.8],\n",
       "       [6.4, 2.8],\n",
       "       [6.3, 2.8],\n",
       "       [6.1, 2.6],\n",
       "       [7.7, 3. ],\n",
       "       [6.3, 3.4],\n",
       "       [6.4, 3.1],\n",
       "       [6. , 3. ],\n",
       "       [6.9, 3.1],\n",
       "       [6.7, 3.1],\n",
       "       [6.9, 3.1],\n",
       "       [5.8, 2.7],\n",
       "       [6.8, 3.2],\n",
       "       [6.7, 3.3],\n",
       "       [6.7, 3. ],\n",
       "       [6.3, 2.5],\n",
       "       [6.5, 3. ],\n",
       "       [6.2, 3.4],\n",
       "       [5.9, 3. ]])"
      ]
     },
     "execution_count": 23,
     "metadata": {},
     "output_type": "execute_result"
    }
   ],
   "source": [
    "X"
   ]
  },
  {
   "cell_type": "code",
   "execution_count": 5,
   "id": "5aa10003-7dd3-4532-9e40-63a8d0c6427e",
   "metadata": {},
   "outputs": [
    {
     "data": {
      "text/plain": [
       "array([0, 0, 0, 0, 0, 0, 0, 0, 0, 0, 0, 0, 0, 0, 0, 0, 0, 0, 0, 0, 0, 0,\n",
       "       0, 0, 0, 0, 0, 0, 0, 0, 0, 0, 0, 0, 0, 0, 0, 0, 0, 0, 0, 0, 0, 0,\n",
       "       0, 0, 0, 0, 0, 0, 1, 1, 1, 1, 1, 1, 1, 1, 1, 1, 1, 1, 1, 1, 1, 1,\n",
       "       1, 1, 1, 1, 1, 1, 1, 1, 1, 1, 1, 1, 1, 1, 1, 1, 1, 1, 1, 1, 1, 1,\n",
       "       1, 1, 1, 1, 1, 1, 1, 1, 1, 1, 1, 1, 2, 2, 2, 2, 2, 2, 2, 2, 2, 2,\n",
       "       2, 2, 2, 2, 2, 2, 2, 2, 2, 2, 2, 2, 2, 2, 2, 2, 2, 2, 2, 2, 2, 2,\n",
       "       2, 2, 2, 2, 2, 2, 2, 2, 2, 2, 2, 2, 2, 2, 2, 2, 2, 2])"
      ]
     },
     "execution_count": 5,
     "metadata": {},
     "output_type": "execute_result"
    }
   ],
   "source": [
    "y"
   ]
  },
  {
   "cell_type": "code",
   "execution_count": 6,
   "id": "005f7108-054c-4c3e-8af8-053c7a8dc4c8",
   "metadata": {},
   "outputs": [],
   "source": [
    "# Split the dataset into a training set and a testing set\n",
    "from sklearn.model_selection import train_test_split\n",
    "X_train,X_test,y_train,y_test=train_test_split(X,y,test_size=0.3,random_state=0)"
   ]
  },
  {
   "cell_type": "code",
   "execution_count": 8,
   "id": "18e1aecb-7efc-43e1-a9b2-781661bc7ad0",
   "metadata": {},
   "outputs": [],
   "source": [
    "# Standardize the features\n",
    "from sklearn.preprocessing import StandardScaler\n",
    "scaler=StandardScaler()\n",
    "X_train=scaler.fit_transform(X_train)\n",
    "X_test=scaler.transform(X_test)"
   ]
  },
  {
   "cell_type": "code",
   "execution_count": 9,
   "id": "2410639b-34c5-4742-b848-90a475837893",
   "metadata": {},
   "outputs": [],
   "source": [
    "# Create a linear SVM classifier\n",
    "from sklearn.svm import SVC\n",
    "clf=SVC(kernel='linear',C=1.0)"
   ]
  },
  {
   "cell_type": "code",
   "execution_count": 24,
   "id": "d6066dd7-20a9-4a4a-a0ac-d5e44c3350ab",
   "metadata": {},
   "outputs": [
    {
     "data": {
      "text/html": [
       "<style>#sk-container-id-2 {color: black;background-color: white;}#sk-container-id-2 pre{padding: 0;}#sk-container-id-2 div.sk-toggleable {background-color: white;}#sk-container-id-2 label.sk-toggleable__label {cursor: pointer;display: block;width: 100%;margin-bottom: 0;padding: 0.3em;box-sizing: border-box;text-align: center;}#sk-container-id-2 label.sk-toggleable__label-arrow:before {content: \"▸\";float: left;margin-right: 0.25em;color: #696969;}#sk-container-id-2 label.sk-toggleable__label-arrow:hover:before {color: black;}#sk-container-id-2 div.sk-estimator:hover label.sk-toggleable__label-arrow:before {color: black;}#sk-container-id-2 div.sk-toggleable__content {max-height: 0;max-width: 0;overflow: hidden;text-align: left;background-color: #f0f8ff;}#sk-container-id-2 div.sk-toggleable__content pre {margin: 0.2em;color: black;border-radius: 0.25em;background-color: #f0f8ff;}#sk-container-id-2 input.sk-toggleable__control:checked~div.sk-toggleable__content {max-height: 200px;max-width: 100%;overflow: auto;}#sk-container-id-2 input.sk-toggleable__control:checked~label.sk-toggleable__label-arrow:before {content: \"▾\";}#sk-container-id-2 div.sk-estimator input.sk-toggleable__control:checked~label.sk-toggleable__label {background-color: #d4ebff;}#sk-container-id-2 div.sk-label input.sk-toggleable__control:checked~label.sk-toggleable__label {background-color: #d4ebff;}#sk-container-id-2 input.sk-hidden--visually {border: 0;clip: rect(1px 1px 1px 1px);clip: rect(1px, 1px, 1px, 1px);height: 1px;margin: -1px;overflow: hidden;padding: 0;position: absolute;width: 1px;}#sk-container-id-2 div.sk-estimator {font-family: monospace;background-color: #f0f8ff;border: 1px dotted black;border-radius: 0.25em;box-sizing: border-box;margin-bottom: 0.5em;}#sk-container-id-2 div.sk-estimator:hover {background-color: #d4ebff;}#sk-container-id-2 div.sk-parallel-item::after {content: \"\";width: 100%;border-bottom: 1px solid gray;flex-grow: 1;}#sk-container-id-2 div.sk-label:hover label.sk-toggleable__label {background-color: #d4ebff;}#sk-container-id-2 div.sk-serial::before {content: \"\";position: absolute;border-left: 1px solid gray;box-sizing: border-box;top: 0;bottom: 0;left: 50%;z-index: 0;}#sk-container-id-2 div.sk-serial {display: flex;flex-direction: column;align-items: center;background-color: white;padding-right: 0.2em;padding-left: 0.2em;position: relative;}#sk-container-id-2 div.sk-item {position: relative;z-index: 1;}#sk-container-id-2 div.sk-parallel {display: flex;align-items: stretch;justify-content: center;background-color: white;position: relative;}#sk-container-id-2 div.sk-item::before, #sk-container-id-2 div.sk-parallel-item::before {content: \"\";position: absolute;border-left: 1px solid gray;box-sizing: border-box;top: 0;bottom: 0;left: 50%;z-index: -1;}#sk-container-id-2 div.sk-parallel-item {display: flex;flex-direction: column;z-index: 1;position: relative;background-color: white;}#sk-container-id-2 div.sk-parallel-item:first-child::after {align-self: flex-end;width: 50%;}#sk-container-id-2 div.sk-parallel-item:last-child::after {align-self: flex-start;width: 50%;}#sk-container-id-2 div.sk-parallel-item:only-child::after {width: 0;}#sk-container-id-2 div.sk-dashed-wrapped {border: 1px dashed gray;margin: 0 0.4em 0.5em 0.4em;box-sizing: border-box;padding-bottom: 0.4em;background-color: white;}#sk-container-id-2 div.sk-label label {font-family: monospace;font-weight: bold;display: inline-block;line-height: 1.2em;}#sk-container-id-2 div.sk-label-container {text-align: center;}#sk-container-id-2 div.sk-container {/* jupyter's `normalize.less` sets `[hidden] { display: none; }` but bootstrap.min.css set `[hidden] { display: none !important; }` so we also need the `!important` here to be able to override the default hidden behavior on the sphinx rendered scikit-learn.org. See: https://github.com/scikit-learn/scikit-learn/issues/21755 */display: inline-block !important;position: relative;}#sk-container-id-2 div.sk-text-repr-fallback {display: none;}</style><div id=\"sk-container-id-2\" class=\"sk-top-container\"><div class=\"sk-text-repr-fallback\"><pre>SVC(C=100, kernel=&#x27;linear&#x27;)</pre><b>In a Jupyter environment, please rerun this cell to show the HTML representation or trust the notebook. <br />On GitHub, the HTML representation is unable to render, please try loading this page with nbviewer.org.</b></div><div class=\"sk-container\" hidden><div class=\"sk-item\"><div class=\"sk-estimator sk-toggleable\"><input class=\"sk-toggleable__control sk-hidden--visually\" id=\"sk-estimator-id-2\" type=\"checkbox\" checked><label for=\"sk-estimator-id-2\" class=\"sk-toggleable__label sk-toggleable__label-arrow\">SVC</label><div class=\"sk-toggleable__content\"><pre>SVC(C=100, kernel=&#x27;linear&#x27;)</pre></div></div></div></div></div>"
      ],
      "text/plain": [
       "SVC(C=100, kernel='linear')"
      ]
     },
     "execution_count": 24,
     "metadata": {},
     "output_type": "execute_result"
    }
   ],
   "source": [
    "# Train the model\n",
    "clf.fit(X_train, y_train)"
   ]
  },
  {
   "cell_type": "code",
   "execution_count": 11,
   "id": "53fc3fb0-145c-441a-be9a-9cc37e630045",
   "metadata": {},
   "outputs": [],
   "source": [
    "# Predict the labels for the testing set\n",
    "y_pred = clf.predict(X_test)"
   ]
  },
  {
   "cell_type": "code",
   "execution_count": 25,
   "id": "a19a1a7b-cc43-4922-904b-747feae9ab1d",
   "metadata": {},
   "outputs": [
    {
     "data": {
      "text/plain": [
       "array([1, 1, 0, 2, 0, 2, 0, 2, 2, 1, 1, 2, 1, 2, 1, 0, 1, 1, 0, 0, 1, 1,\n",
       "       0, 0, 2, 0, 0, 2, 1, 0, 2, 1, 0, 1, 2, 1, 0, 1, 1, 1, 2, 0, 2, 0,\n",
       "       0])"
      ]
     },
     "execution_count": 25,
     "metadata": {},
     "output_type": "execute_result"
    }
   ],
   "source": [
    "y_pred"
   ]
  },
  {
   "cell_type": "code",
   "execution_count": 13,
   "id": "5aceed9a-df7c-447a-ae54-ede5c8328e8c",
   "metadata": {},
   "outputs": [
    {
     "name": "stdout",
     "output_type": "stream",
     "text": [
      "Accuracy: 0.8\n"
     ]
    }
   ],
   "source": [
    "# Compute the accuracy of the model\n",
    "from sklearn.metrics import accuracy_score\n",
    "accuracy = accuracy_score(y_test, y_pred)\n",
    "print(\"Accuracy:\", accuracy)"
   ]
  },
  {
   "cell_type": "markdown",
   "id": "967d29a8-981e-49f2-9298-5311545d6024",
   "metadata": {},
   "source": [
    "Plot Decision Boundaries"
   ]
  },
  {
   "cell_type": "code",
   "execution_count": 14,
   "id": "b7dc1b18-3ded-4240-b6af-337ec7e49f97",
   "metadata": {},
   "outputs": [],
   "source": [
    "#Create a mesh grid for plotting\n",
    "x_min, x_max = X[:, 0].min() - 1, X[:, 0].max() + 1\n",
    "y_min, y_max = X[:, 1].min() - 1, X[:, 1].max() + 1\n",
    "h = (x_max / x_min) / 100\n",
    "xx, yy = np.meshgrid(np.arange(x_min, x_max, h), np.arange(y_min, y_max, h))"
   ]
  },
  {
   "cell_type": "code",
   "execution_count": 15,
   "id": "105c7d71-1f2d-47eb-a0b4-6ce8ac7d0043",
   "metadata": {},
   "outputs": [],
   "source": [
    "#Predict the class for each point in the mesh grid\n",
    "Z = clf.predict(np.c_[xx.ravel(), yy.ravel()])\n",
    "Z = Z.reshape(xx.shape)"
   ]
  },
  {
   "cell_type": "code",
   "execution_count": 18,
   "id": "0f9bf5e2-ae32-4cdc-80b6-db4e019e9105",
   "metadata": {},
   "outputs": [
    {
     "data": {
      "image/png": "[encoded data removed]",
      "text/plain": [
       "<Figure size 640x480 with 1 Axes>"
      ]
     },
     "metadata": {},
     "output_type": "display_data"
    }
   ],
   "source": [
    "#Plot the decision boundary\n",
    "plt.contourf(xx, yy, Z, cmap=plt.cm.coolwarm, alpha=0.8)\n",
    "plt.scatter(X[:, 0], X[:, 1], c=y, cmap=plt.cm.coolwarm)\n",
    "plt.xlabel('Sepal length')\n",
    "plt.ylabel('Sepal width')\n",
    "plt.title('SVM Decision Boundary')\n",
    "plt.show()"
   ]
  },
  {
   "cell_type": "code",
   "execution_count": 19,
   "id": "ae55443a-b3f7-402d-a3e6-b65b9a793730",
   "metadata": {},
   "outputs": [
    {
     "name": "stdout",
     "output_type": "stream",
     "text": [
      "Accuracy for C = 0.1 : 0.7777777777777778\n",
      "Accuracy for C = 1 : 0.8\n",
      "Accuracy for C = 10 : 0.8\n",
      "Accuracy for C = 100 : 0.8\n"
     ]
    }
   ],
   "source": [
    "### Trying Different Values of Regularization Parameter C\n",
    "\n",
    "C_values = [0.1, 1, 10, 100]\n",
    "for C in C_values:\n",
    "    clf = SVC(kernel='linear', C=C)\n",
    "    clf.fit(X_train, y_train)\n",
    "    y_pred = clf.predict(X_test)\n",
    "    accuracy = accuracy_score(y_test, y_pred)\n",
    "    print(\"Accuracy for C =\", C, \":\", accuracy)"
   ]
  },
  {
   "cell_type": "markdown",
   "id": "11938d5d-01aa-450b-a9f9-36fd28a415a1",
   "metadata": {},
   "source": [
    "This code will:\n",
    "\n",
    "Load the iris dataset and split it into training and testing sets.\n",
    "\n",
    "Standardize the features.\n",
    "\n",
    "Train a linear SVM classifier with C=1.0.\n",
    "\n",
    "Compute the accuracy of the model.\n",
    "\n",
    "Plot the decision boundaries.\n",
    "\n",
    "Try different values of C and print the corresponding accuracies.\n"
   ]
  },
  {
   "cell_type": "code",
   "execution_count": null,
   "id": "578e2b5f-a30d-4756-af1e-cf680826a682",
   "metadata": {},
   "outputs": [],
   "source": []
  },
  {
   "cell_type": "code",
   "execution_count": null,
   "id": "9f045e76-b65c-421f-b5c8-9c121ebd407d",
   "metadata": {},
   "outputs": [],
   "source": []
  }
 ],
 "metadata": {
  "kernelspec": {
   "display_name": "Python 3 (ipykernel)",
   "language": "python",
   "name": "python3"
  },
  "language_info": {
   "codemirror_mode": {
    "name": "ipython",
    "version": 3
   },
   "file_extension": ".py",
   "mimetype": "text/x-python",
   "name": "python",
   "nbconvert_exporter": "python",
   "pygments_lexer": "ipython3",
   "version": "3.10.8"
  }
 },
 "nbformat": 4,
 "nbformat_minor": 5
}
