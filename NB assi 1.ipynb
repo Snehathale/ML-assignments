{
 "cells": [
  {
   "cell_type": "markdown",
   "id": "1e12a7d2-4a97-49b2-b6fa-f4c6857fb0de",
   "metadata": {},
   "source": [
    "what is bayes theorem?"
   ]
  },
  {
   "cell_type": "markdown",
   "id": "617bf53a-9c88-4e49-bfc5-0363b5695d3a",
   "metadata": {},
   "source": [
    "Bayes' Theorem: Updating Beliefs with Evidence\n",
    "Bayes' theorem is a mathematical formula used to calculate the probability of an event based on new information or evidence. It's a cornerstone of Bayesian statistics, a method of statistical inference that updates beliefs about something as more information becomes available.   \n",
    "\n",
    "The Formula\n",
    "The theorem is expressed as:\n",
    "\n",
    "P(A|B) = (P(B|A) * P(A)) / P(B)\n",
    "Where:\n",
    "\n",
    "P(A|B): Probability of event A happening, given that event B has already happened (posterior probability)   \n",
    "P(B|A): Probability of event B happening, given that event A has already happened (likelihood)\n",
    "P(A): Probability of event A happening (prior probability)\n",
    "P(B): Probability of event B happening (marginal probability)\n",
    "What Does it Mean?\n",
    "In simpler terms, Bayes' theorem helps you update your belief about something (prior probability) based on new evidence (likelihood). The result is a revised belief (posterior probability).   \n",
    "\n",
    "Example\n",
    "Imagine you're trying to determine if someone has a disease based on a test result.\n",
    "\n",
    "Prior probability: The overall chance of having the disease in the population.\n",
    "Likelihood: The probability of testing positive if you have the disease.\n",
    "Posterior probability: The chance of actually having the disease given a positive test result.\n",
    "Bayes' theorem helps you calculate this posterior probability, which is often more accurate than simply looking at the test result alone.\n",
    "\n",
    "Applications\n",
    "Bayes' theorem has a wide range of applications, including:\n",
    "\n",
    "Medicine: Diagnosing diseases based on symptoms and test results.\n",
    "Finance: Assessing investment risks and returns.\n",
    "Machine learning: Building models that learn from data.\n",
    "Artificial intelligence: Making decisions based on uncertain information."
   ]
  },
  {
   "cell_type": "markdown",
   "id": "1b4ae2d3-bf91-4526-926c-10fc0cb2367e",
   "metadata": {},
   "source": []
  },
  {
   "cell_type": "markdown",
   "id": "c34194ea-0590-4b44-ac7a-09ef7b15ea35",
   "metadata": {},
   "source": [
    "what is the formula for bayes theorem?"
   ]
  },
  {
   "cell_type": "markdown",
   "id": "dd065528-725c-4d32-9327-5d71e5ede39c",
   "metadata": {},
   "source": [
    "Bayes' Theorem Formula:\n",
    "\n",
    "P(A|B) = (P(B|A) * P(A)) / P(B)\n",
    "Wh\n",
    "\n",
    "P(A|B): Posterior probability (probability of A given B)\n",
    "P(B|A): Likelihood (probability of B given A)\n",
    "P(A): Prior probability (probability of A)\n",
    "P(B): Marginal probability (probability of B)   \n",
    "This formula helps you update your belief about something (prior probability) based on new evidence (likelihood) to arrive at a revised belief (posterior probability). "
   ]
  },
  {
   "cell_type": "markdown",
   "id": "88f7a151-0d19-495b-a2ec-500102ea60e8",
   "metadata": {},
   "source": []
  },
  {
   "cell_type": "markdown",
   "id": "8f6eceda-1136-44ab-81e8-ded4de813f63",
   "metadata": {},
   "source": [
    "How is bayes theorem used to practice?"
   ]
  },
  {
   "cell_type": "markdown",
   "id": "f48018b6-2fd7-4b44-912f-e55eb44b7676",
   "metadata": {},
   "source": [
    "Practicing with Bayes' Theorem\n",
    "Understanding the Basics:\n",
    "\n",
    "Before diving into complex problems, ensure you grasp the core concepts:\n",
    "\n",
    "Conditional probability: The probability of an event given that another event has occurred.\n",
    "\n",
    "   \n",
    "Prior probability: The initial belief about the probability of an event.   \n",
    "Likelihood: The probability of observing the data given a specific hypothesis.\n",
    "Posterior probability: The updated belief about the probability of an event after considering new evidence.\n",
    "Start with Simple Problems:\n",
    "\n",
    "Coin Flips:\n",
    "\n",
    "Assume a biased coin with a probability of heads (H) being 0.6.\n",
    "Calculate the probability of getting two heads in a row.\n",
    "Use Bayes' theorem to update the probability of the coin being biased after observing two heads.\n",
    "Medical Testing:\n",
    "\n",
    "Consider a disease with a prevalence of 1%.\n",
    "A test has a 95% accuracy rate for positive cases and a 90% accuracy rate for negative cases.\n",
    "Calculate the probability of having the disease given a positive test result.\n",
    "Increase Complexity:\n",
    "\n",
    "Multiple Hypotheses:\n",
    "\n",
    "Explore scenarios with multiple possible causes or outcomes.\n",
    "For example, consider a medical diagnosis with several potential diseases.\n",
    "Continuous Variables:\n",
    "\n",
    "Apply Bayes' theorem to problems involving continuous data.\n",
    "This often requires using probability density functions instead of probabilities.\n",
    "Real-World Applications:\n",
    "\n",
    "Spam Filtering:\n",
    "Train a Bayesian classifier to identify spam emails based on word frequencies.\n",
    "Weather Forecasting:\n",
    "Incorporate past weather data and current conditions to predict future weather.\n",
    "Financial Modeling:\n",
    "Estimate the probability of default for loans based on borrower characteristics.\n",
    "Practice with Datasets:\n",
    "\n",
    "Use real-world datasets to apply Bayes' theorem.\n",
    "Explore libraries like Scikit-learn in Python for Bayesian methods.\n",
    "Key Tips:\n",
    "\n",
    "Visualize: Diagrams and graphs can help understand the problem.\n",
    "Break it Down: Complex problems can be simplified by breaking them into smaller steps.\n",
    "Iterate: Experiment with different priors and likelihoods to see how they affect the posterior.\n",
    "Leverage Tools: Utilize software packages for calculations and visualizations.\n",
    "Additional Resources:\n",
    "\n",
    "Online tutorials and courses\n",
    "Textbooks on probability and statistics\n",
    "Research papers and articles"
   ]
  },
  {
   "cell_type": "markdown",
   "id": "d6ad17f7-4aba-465d-b955-4fef6c352381",
   "metadata": {},
   "source": []
  },
  {
   "cell_type": "markdown",
   "id": "db0f8bc4-c9c4-4996-8c90-b2d10871bdc1",
   "metadata": {},
   "source": [
    "Q4. What is the relationship between Bayes' theorem and conditional probability?"
   ]
  },
  {
   "cell_type": "markdown",
   "id": "ff00bcbc-02bf-4db0-830c-2c9af83e9494",
   "metadata": {},
   "source": [
    "Bayes' Theorem and Conditional Probability: A Close Relationship\n",
    "Bayes' theorem is essentially a formula derived from conditional probability.   \n",
    "\n",
    "Conditional probability is the probability of an event occurring given that another event has already occurred. It's denoted as P(A|B), which means the probability of A given B.   \n",
    "Bayes' theorem takes this concept further and provides a way to calculate the probability of one event (A) given another event (B) when you know the probability of B given A.   \n",
    "In essence, Bayes' theorem helps you \"reverse\" conditional probabilities.   \n",
    "\n",
    "The Formula:\n",
    "P(A|B) = (P(B|A) * P(A)) / P(B)\n",
    "As you can see, the formula involves conditional probabilities (P(A|B) and P(B|A)).   \n",
    "\n",
    "To summarize:\n",
    "\n",
    "Conditional probability is the foundation.   \n",
    "Bayes' theorem is a tool built on conditional probability to calculate specific probabilities in a different way.   "
   ]
  },
  {
   "cell_type": "markdown",
   "id": "723a59b7-dd54-4104-bd84-e887607b6ce9",
   "metadata": {},
   "source": []
  },
  {
   "cell_type": "markdown",
   "id": "7cb8ced3-8bc5-4eaf-a6b3-74aff9492de6",
   "metadata": {},
   "source": [
    "Q5. How do you choose which type of Naive Bayes classifier to use for any given problem?"
   ]
  },
  {
   "cell_type": "markdown",
   "id": "79ed7d65-e0c8-4b94-822b-f70a8c6be65a",
   "metadata": {},
   "source": [
    "Choosing the Right Naive Bayes Classifier\n",
    "The choice of Naive Bayes classifier primarily depends on the nature of your data. Here's a breakdown:\n",
    "\n",
    "1. Gaussian Naive Bayes\n",
    "Best for: Continuously distributed numerical data.\n",
    "\n",
    "Example: Predicting house prices based on features like area, number of rooms, etc.\n",
    "2. Multinomial Naive Bayes\n",
    "Best for: Discrete data, especially when features represent frequencies or counts.   \n",
    "Example: Text classification (spam/not spam), where features are word counts.   \n",
    "3. Bernoulli Naive Bayes\n",
    "Best for: Binary data, where features are either present or absent.   \n",
    "Example: Document classification based on word occurrence (present or absent).\n",
    "Factors to Consider:\n",
    "Data Distribution: Understand the distribution of your features.\n",
    "Feature Type: Determine whether your features are continuous, discrete, or binary.\n",
    "Problem Type: Consider the nature of your problem (classification, prediction, etc.).\n",
    "Performance: Experiment with different classifiers to see which performs best on your dataset.\n",
    "Additional Tips:\n",
    "Data Preprocessing: Ensure your data is cleaned and prepared appropriately before applying Naive Bayes.\n",
    "Feature Engineering: Create informative features that can improve classifier performance.\n",
    "Hyperparameter Tuning: Experiment with different parameters to optimize the model.\n",
    "Cross-Validation: Evaluate the model's performance using cross-validation to avoid overfitting.\n",
    "In summary, the key to choosing the right Naive Bayes classifier is to carefully analyze your data and select the model that best aligns with its characteristics."
   ]
  },
  {
   "cell_type": "markdown",
   "id": "e0838878-afae-44b8-84f3-75e3785d311a",
   "metadata": {},
   "source": []
  },
  {
   "cell_type": "markdown",
   "id": "8d474d95-1e1b-4ca4-8fdf-21362a1d02ef",
   "metadata": {},
   "source": [
    "Q6. Assignment:\n",
    "\n",
    "You have a dataset with two features, X1 and X2, and two possible classes, A and B. You want to use Naive\n",
    "Bayes to classify a new instance with features X1 = 3 and X2 = 4. The following table shows the frequency of\n",
    "each feature value for each class:\n",
    "\n",
    "Class X1=1 X1=2 X1=3 X2=1 X2=2 X2=3 X2=4\n",
    "\n",
    "A 3 3 4 4 3 3 3\n",
    "\n",
    "B 2 2 1 2 2 2 3\n",
    "\n",
    "Assuming equal prior probabilities for each class, which class would Naive Bayes predict the new instance\n",
    "to belong to?\n"
   ]
  },
  {
   "cell_type": "markdown",
   "id": "16f25780-1823-4a9e-9f4a-b328f889b8d4",
   "metadata": {},
   "source": []
  },
  {
   "cell_type": "code",
   "execution_count": null,
   "id": "cef6adc3-71bc-417f-8e90-0db4ca272c39",
   "metadata": {},
   "outputs": [],
   "source": []
  }
 ],
 "metadata": {
  "kernelspec": {
   "display_name": "Python 3 (ipykernel)",
   "language": "python",
   "name": "python3"
  },
  "language_info": {
   "codemirror_mode": {
    "name": "ipython",
    "version": 3
   },
   "file_extension": ".py",
   "mimetype": "text/x-python",
   "name": "python",
   "nbconvert_exporter": "python",
   "pygments_lexer": "ipython3",
   "version": "3.10.8"
  }
 },
 "nbformat": 4,
 "nbformat_minor": 5
}
